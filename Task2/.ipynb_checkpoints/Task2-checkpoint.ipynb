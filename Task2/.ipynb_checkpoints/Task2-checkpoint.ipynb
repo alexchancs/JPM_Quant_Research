{
 "cells": [
  {
   "cell_type": "code",
   "execution_count": 2,
   "id": "4d9b4f05",
   "metadata": {},
   "outputs": [],
   "source": [
    "import math\n",
    "from datetime import date"
   ]
  },
  {
   "cell_type": "code",
   "execution_count": 3,
   "id": "28add2cc",
   "metadata": {},
   "outputs": [
    {
     "name": "stdout",
     "output_type": "stream",
     "text": [
      "Injected gas on 2022-01-01 at a price of 20\n"
     ]
    },
    {
     "ename": "NameError",
     "evalue": "name 'injection_withdrawal_cost_rate' is not defined",
     "output_type": "error",
     "traceback": [
      "\u001b[0;31m---------------------------------------------------------------------------\u001b[0m",
      "\u001b[0;31mNameError\u001b[0m                                 Traceback (most recent call last)",
      "Cell \u001b[0;32mIn[3], line 45\u001b[0m\n\u001b[1;32m     43\u001b[0m injection_cost_rate \u001b[38;5;241m=\u001b[39m \u001b[38;5;241m0.0005\u001b[39m  \n\u001b[1;32m     44\u001b[0m max_storage_volume \u001b[38;5;241m=\u001b[39m \u001b[38;5;241m500000\u001b[39m \n\u001b[0;32m---> 45\u001b[0m result \u001b[38;5;241m=\u001b[39m \u001b[43mprice_contract\u001b[49m\u001b[43m(\u001b[49m\u001b[43min_dates\u001b[49m\u001b[43m,\u001b[49m\u001b[43m \u001b[49m\u001b[43mbuy_prices\u001b[49m\u001b[43m,\u001b[49m\u001b[43m \u001b[49m\u001b[43mout_dates\u001b[49m\u001b[43m,\u001b[49m\u001b[43m \u001b[49m\u001b[43msell_prices\u001b[49m\u001b[43m,\u001b[49m\u001b[43m \u001b[49m\u001b[43mrate\u001b[49m\u001b[43m,\u001b[49m\u001b[43m \u001b[49m\u001b[43mstorage_cost_rate\u001b[49m\u001b[43m,\u001b[49m\u001b[43m \u001b[49m\u001b[43mmax_storage_volume\u001b[49m\u001b[43m,\u001b[49m\u001b[43m \u001b[49m\u001b[43minjection_cost_rate\u001b[49m\u001b[43m)\u001b[49m\n\u001b[1;32m     46\u001b[0m \u001b[38;5;28mprint\u001b[39m()\n\u001b[1;32m     47\u001b[0m \u001b[38;5;28mprint\u001b[39m(\u001b[38;5;124mf\u001b[39m\u001b[38;5;124m\"\u001b[39m\u001b[38;5;124mThe value of the contract is: $\u001b[39m\u001b[38;5;132;01m{\u001b[39;00mresult\u001b[38;5;132;01m}\u001b[39;00m\u001b[38;5;124m\"\u001b[39m)\n",
      "Cell \u001b[0;32mIn[3], line 26\u001b[0m, in \u001b[0;36mprice_contract\u001b[0;34m(in_dates, buy_prices, out_dates, sell_prices, rate, storage_cost_rate, total_vol, injection_cost_rate)\u001b[0m\n\u001b[1;32m     24\u001b[0m volume \u001b[38;5;241m-\u001b[39m\u001b[38;5;241m=\u001b[39m rate\n\u001b[1;32m     25\u001b[0m cash_in \u001b[38;5;241m+\u001b[39m\u001b[38;5;241m=\u001b[39m rate \u001b[38;5;241m*\u001b[39m sell_prices[out_dates\u001b[38;5;241m.\u001b[39mindex(start_date)]\n\u001b[0;32m---> 26\u001b[0m withdrawal_cost \u001b[38;5;241m=\u001b[39m rate \u001b[38;5;241m*\u001b[39m \u001b[43minjection_withdrawal_cost_rate\u001b[49m\n\u001b[1;32m     27\u001b[0m cash_in \u001b[38;5;241m-\u001b[39m\u001b[38;5;241m=\u001b[39m withdrawal_cost\n\u001b[1;32m     28\u001b[0m \u001b[38;5;28mprint\u001b[39m(\u001b[38;5;124m'\u001b[39m\u001b[38;5;124mExtracted gas on \u001b[39m\u001b[38;5;132;01m%s\u001b[39;00m\u001b[38;5;124m at a price of \u001b[39m\u001b[38;5;132;01m%s\u001b[39;00m\u001b[38;5;124m'\u001b[39m\u001b[38;5;241m%\u001b[39m(start_date, sell_prices[out_dates\u001b[38;5;241m.\u001b[39mindex(start_date)]))\n",
      "\u001b[0;31mNameError\u001b[0m: name 'injection_withdrawal_cost_rate' is not defined"
     ]
    }
   ],
   "source": [
    "def price_contract(in_dates, buy_prices, out_dates, sell_prices, rate, storage_cost_rate, \n",
    "                   total_vol, injection_cost_rate):\n",
    "    volume = 0\n",
    "    buy_cost = 0\n",
    "    cash_in = 0\n",
    "    last_date = min(min(in_dates), min(out_dates))\n",
    "    all_dates = sorted(set(in_dates + out_dates))\n",
    "    \n",
    "    for i in range(len(all_dates)):\n",
    "        start_date = all_dates[i]\n",
    "\n",
    "        if start_date in in_dates:\n",
    "            if volume <= total_vol - rate:\n",
    "                volume += rate\n",
    "                buy_cost += rate * buy_prices[in_dates.index(start_date)]\n",
    "                injection_cost = rate * injection_cost_rate\n",
    "                buy_cost += injection_cost\n",
    "                print('Injected gas on %s at a price of %s'%(start_date, buy_prices[in_dates.index(start_date)]))\n",
    "\n",
    "            else:\n",
    "                print('Injection is not possible on date %s as there is insufficient space in the storage facility'%start_date)\n",
    "        elif start_date in out_dates:\n",
    "            if volume >= rate:\n",
    "                volume -= rate\n",
    "                cash_in += rate * sell_prices[out_dates.index(start_date)]\n",
    "                withdrawal_cost = rate * injection_cost_rate\n",
    "                cash_in -= withdrawal_cost\n",
    "                print('Extracted gas on %s at a price of %s'%(start_date, sell_prices[out_dates.index(start_date)]))\n",
    "            else:\n",
    "                # we cannot withdraw more gas than is actually stored\n",
    "                print('Extraction is not possible on date %s as there is insufficient volume of gas stored'%start_date)\n",
    "                \n",
    "    store_cost = math.ceil((max(out_dates) - min(in_dates)).days // 30) * storage_cost_rate\n",
    "    return cash_in - store_cost - buy_cost\n",
    "\n",
    "\n",
    "in_dates = [date(2022, 1, 1), date(2022, 2, 1), date(2022, 2, 21), date(2022, 4, 10)]\n",
    "buy_prices = [20, 21, 20.5, 22]\n",
    "out_dates = [date(2022, 2, 6), date(2022, 1, 10), date(2022, 3, 3), date(2022, 12, 25)] \n",
    "sell_prices = [42, 19, 30, 19] \n",
    "rate = 100000  \n",
    "storage_cost_rate = 10000 \n",
    "injection_cost_rate = 0.0005  \n",
    "max_storage_volume = 500000 \n",
    "result = price_contract(in_dates, buy_prices, out_dates, sell_prices, rate, storage_cost_rate, max_storage_volume, injection_cost_rate)\n",
    "print()\n",
    "print(f\"The value of the contract is: ${result}\")"
   ]
  },
  {
   "cell_type": "code",
   "execution_count": null,
   "id": "0b6ab6f6",
   "metadata": {},
   "outputs": [],
   "source": []
  }
 ],
 "metadata": {
  "kernelspec": {
   "display_name": "Python 3 (ipykernel)",
   "language": "python",
   "name": "python3"
  },
  "language_info": {
   "codemirror_mode": {
    "name": "ipython",
    "version": 3
   },
   "file_extension": ".py",
   "mimetype": "text/x-python",
   "name": "python",
   "nbconvert_exporter": "python",
   "pygments_lexer": "ipython3",
   "version": "3.10.9"
  }
 },
 "nbformat": 4,
 "nbformat_minor": 5
}
